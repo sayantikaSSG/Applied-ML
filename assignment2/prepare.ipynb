{
 "cells": [
  {
   "cell_type": "code",
   "execution_count": 2,
   "metadata": {},
   "outputs": [],
   "source": [
    "import pandas as pd\n",
    "from sklearn.model_selection import train_test_split\n",
    "\n",
    "# Load the data\n",
    "data = pd.read_csv('/home/sayantika/Desktop/DS2sem4/Applied Machine Leaning/Applied-ML/emails.csv')\n",
    "\n",
    "# Split the data\n",
    "train, test = train_test_split(data, test_size=0.2, random_state=42)\n",
    "train, validation = train_test_split(train, test_size=0.25, random_state=42)  # 0.25 * 0.8 = 0.2\n",
    "\n",
    "# Save the splits\n",
    "train.to_csv('train.csv', index=False)\n",
    "validation.to_csv('validation.csv', index=False)\n",
    "test.to_csv('test.csv', index=False)\n"
   ]
  },
  {
   "cell_type": "code",
   "execution_count": 7,
   "metadata": {},
   "outputs": [],
   "source": [
    "# Split the data\n",
    "train, test = train_test_split(data, test_size=0.2, random_state=10)\n",
    "train, validation = train_test_split(train, test_size=0.25, random_state=10)  # 0.25 * 0.8 = 0.2\n",
    "\n",
    "# Save the splits\n",
    "train.to_csv('train1.csv', index=False)\n",
    "validation.to_csv('validation1.csv', index=False)\n",
    "test.to_csv('test1.csv', index=False)"
   ]
  },
  {
   "cell_type": "code",
   "execution_count": 5,
   "metadata": {},
   "outputs": [],
   "source": [
    "# Split the data\n",
    "train, test = train_test_split(data, test_size=0.2, random_state=2)\n",
    "train, validation = train_test_split(train, test_size=0.25, random_state=2)  # 0.25 * 0.8 = 0.2\n",
    "\n",
    "# Save the splits\n",
    "train.to_csv('train2.csv', index=False)\n",
    "validation.to_csv('validation2.csv', index=False)\n",
    "test.to_csv('test2.csv', index=False)"
   ]
  },
  {
   "cell_type": "code",
   "execution_count": null,
   "metadata": {},
   "outputs": [],
   "source": []
  }
 ],
 "metadata": {
  "kernelspec": {
   "display_name": "Python 3",
   "language": "python",
   "name": "python3"
  },
  "language_info": {
   "codemirror_mode": {
    "name": "ipython",
    "version": 3
   },
   "file_extension": ".py",
   "mimetype": "text/x-python",
   "name": "python",
   "nbconvert_exporter": "python",
   "pygments_lexer": "ipython3",
   "version": "3.10.12"
  }
 },
 "nbformat": 4,
 "nbformat_minor": 2
}
