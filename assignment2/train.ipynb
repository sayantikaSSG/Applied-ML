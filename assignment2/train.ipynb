{
 "cells": [
  {
   "cell_type": "code",
   "execution_count": 1,
   "metadata": {},
   "outputs": [
    {
     "name": "stderr",
     "output_type": "stream",
     "text": [
      "2024/02/20 20:08:06 INFO mlflow.tracking.fluent: Experiment with name 'Spam Detection Benchmark Models' does not exist. Creating a new experiment.\n"
     ]
    },
    {
     "data": {
      "text/plain": [
       "<Experiment: artifact_location='file:///home/sayantika/Desktop/DS2sem4/Applied%20Machine%20Leaning/Applied-ML/assignment2/mlruns/101894306142852079', creation_time=1708439886021, experiment_id='101894306142852079', last_update_time=1708439886021, lifecycle_stage='active', name='Spam Detection Benchmark Models', tags={}>"
      ]
     },
     "execution_count": 1,
     "metadata": {},
     "output_type": "execute_result"
    }
   ],
   "source": [
    "import mlflow\n",
    "\n",
    "# Initialize MLFlow and set the experiment name\n",
    "mlflow.set_experiment(\"Spam Detection Benchmark Models\")\n"
   ]
  },
  {
   "cell_type": "code",
   "execution_count": 2,
   "metadata": {},
   "outputs": [],
   "source": [
    "import pandas as pd\n",
    "from sklearn.model_selection import train_test_split\n",
    "from sklearn.feature_extraction.text import TfidfVectorizer\n",
    "from sklearn.pipeline import make_pipeline\n",
    "from sklearn.linear_model import LogisticRegression\n",
    "from sklearn.naive_bayes import MultinomialNB\n",
    "from sklearn.ensemble import RandomForestClassifier\n",
    "from sklearn.metrics import average_precision_score\n",
    "import mlflow\n",
    "from mlflow.sklearn import log_model\n",
    "\n",
    "# Load your datasets\n",
    "train_df = pd.read_csv('train.csv')\n",
    "test_df = pd.read_csv('test.csv')\n",
    "\n",
    "# Split the datasets into features and labels\n",
    "X_train, y_train = train_df['text'], train_df['spam']\n",
    "X_test, y_test = test_df['text'], test_df['spam']\n",
    "# def run_experiment(model, model_name):\n",
    "#     with mlflow.start_run(run_name=model_name):\n",
    "#         # Create a pipeline\n",
    "#         pipeline = make_pipeline(TfidfVectorizer(), model)\n",
    "        \n",
    "#         # Train the model\n",
    "#         pipeline.fit(X_train, y_train)\n",
    "        \n",
    "#         # Predict on the test set\n",
    "#         y_pred_proba = pipeline.predict_proba(X_test)[:, 1]\n",
    "        \n",
    "#         # Compute AUCPR\n",
    "#         aucpr = average_precision_score(y_test, y_pred_proba)\n",
    "        \n",
    "#         # Log parameters, metrics, and model\n",
    "#         mlflow.log_param(\"model\", model_name)\n",
    "#         mlflow.log_metric(\"AUCPR\", aucpr)\n",
    "#         mlflow.sklearn.log_model(pipeline, \"model\")\n",
    "        \n",
    "#         print(f\"{model_name}: AUCPR = {aucpr}\")\n"
   ]
  },
  {
   "cell_type": "code",
   "execution_count": 3,
   "metadata": {},
   "outputs": [
    {
     "name": "stderr",
     "output_type": "stream",
     "text": [
      "/home/sayantika/.local/lib/python3.10/site-packages/_distutils_hack/__init__.py:33: UserWarning: Setuptools is replacing distutils.\n",
      "  warnings.warn(\"Setuptools is replacing distutils.\")\n"
     ]
    },
    {
     "name": "stdout",
     "output_type": "stream",
     "text": [
      "Model: Logistic Regression, AUCPR: 0.9982919428346756\n",
      "Model: Naive Bayes, AUCPR: 0.9722673313752993\n",
      "Model: Random Forest, AUCPR: 0.9957403067774306\n"
     ]
    }
   ],
   "source": [
    "def train_and_log_model(model, model_name):\n",
    "    with mlflow.start_run(run_name=model_name):\n",
    "        # Create a pipeline with TF-IDF Vectorizer and the model\n",
    "        pipeline = make_pipeline(TfidfVectorizer(), model)\n",
    "        \n",
    "        # Train the model\n",
    "        pipeline.fit(X_train, y_train)\n",
    "        \n",
    "        # Predict on the test set\n",
    "        y_pred_proba = pipeline.predict_proba(X_test)[:, 1]\n",
    "        \n",
    "        # Compute AUCPR\n",
    "        aucpr = average_precision_score(y_test, y_pred_proba)\n",
    "        \n",
    "        # Log parameters, metrics, and model\n",
    "        mlflow.log_params(model.get_params())\n",
    "        mlflow.log_metric(\"AUCPR\", aucpr)\n",
    "        log_model(pipeline, \"model\")\n",
    "        \n",
    "        print(f\"Model: {model_name}, AUCPR: {aucpr}\")\n",
    "\n",
    "# Initialize MLFlow\n",
    "mlflow.set_experiment(\"Spam Detection Benchmark Models\")\n",
    "\n",
    "# Define and train models\n",
    "models = {\n",
    "    \"Logistic Regression\": LogisticRegression(max_iter=1000),\n",
    "    \"Naive Bayes\": MultinomialNB(),\n",
    "    \"Random Forest\": RandomForestClassifier(n_estimators=100)\n",
    "}\n",
    "\n",
    "for name, model in models.items():\n",
    "    train_and_log_model(model, name)"
   ]
  },
  {
   "cell_type": "code",
   "execution_count": null,
   "metadata": {},
   "outputs": [],
   "source": []
  }
 ],
 "metadata": {
  "kernelspec": {
   "display_name": "Python 3",
   "language": "python",
   "name": "python3"
  },
  "language_info": {
   "codemirror_mode": {
    "name": "ipython",
    "version": 3
   },
   "file_extension": ".py",
   "mimetype": "text/x-python",
   "name": "python",
   "nbconvert_exporter": "python",
   "pygments_lexer": "ipython3",
   "version": "3.10.12"
  }
 },
 "nbformat": 4,
 "nbformat_minor": 2
}
