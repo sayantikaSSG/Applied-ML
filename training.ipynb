{
 "cells": [
  {
   "cell_type": "code",
   "execution_count": 3,
   "metadata": {},
   "outputs": [
    {
     "name": "stdout",
     "output_type": "stream",
     "text": [
      "<class 'pandas.core.frame.DataFrame'>\n",
      "RangeIndex: 4009 entries, 0 to 4008\n",
      "Data columns (total 3 columns):\n",
      " #   Column        Non-Null Count  Dtype \n",
      "---  ------        --------------  ----- \n",
      " 0   text          4009 non-null   object\n",
      " 1   spam          4009 non-null   int64 \n",
      " 2   cleaned_text  4009 non-null   object\n",
      "dtypes: int64(1), object(2)\n",
      "memory usage: 94.1+ KB\n"
     ]
    },
    {
     "data": {
      "text/plain": [
       "(None,\n",
       "                                                 text  spam  \\\n",
       " 0  Subject: volatility curves - linked from reute...     0   \n",
       " 1  Subject: organizational announcement  fyi .  -...     0   \n",
       " 2  Subject: lng meeting  hello all :  the lng mee...     0   \n",
       " 3  Subject: fwd : re : optical network engineerin...     0   \n",
       " 4  Subject: re : argentina modelling  michael ,  ...     0   \n",
       " \n",
       "                                         cleaned_text  \n",
       " 0  subject volatility curves  linked from reuters...  \n",
       " 1  subject organizational announcement  fyi      ...  \n",
       " 2  subject lng meeting  hello all   the lng meeti...  \n",
       " 3  subject fwd  re  optical network engineering  ...  \n",
       " 4  subject re  argentina modelling  michael   wha...  )"
      ]
     },
     "execution_count": 3,
     "metadata": {},
     "output_type": "execute_result"
    }
   ],
   "source": [
    "import pandas as pd\n",
    "\n",
    "# Load the training data\n",
    "train_df = pd.read_csv('train.csv')\n",
    "\n",
    "# Display the first few rows of the training dataset and summary information\n",
    "train_df_info = train_df.info()\n",
    "train_df_head = train_df.head()\n",
    "\n",
    "train_df_info, train_df_head\n"
   ]
  },
  {
   "cell_type": "code",
   "execution_count": 4,
   "metadata": {},
   "outputs": [
    {
     "name": "stdout",
     "output_type": "stream",
     "text": [
      "Training Data - Accuracy: 0.9957595410326765\n",
      "              precision    recall  f1-score   support\n",
      "\n",
      "           0       0.99      1.00      1.00      3082\n",
      "           1       1.00      0.98      0.99       927\n",
      "\n",
      "    accuracy                           1.00      4009\n",
      "   macro avg       1.00      0.99      0.99      4009\n",
      "weighted avg       1.00      1.00      1.00      4009\n",
      "\n",
      "\n",
      "Validation Data - Accuracy: 0.9674039580908033\n",
      "              precision    recall  f1-score   support\n",
      "\n",
      "           0       0.96      1.00      0.98       645\n",
      "           1       0.99      0.87      0.93       214\n",
      "\n",
      "    accuracy                           0.97       859\n",
      "   macro avg       0.98      0.94      0.95       859\n",
      "weighted avg       0.97      0.97      0.97       859\n",
      "\n",
      "\n",
      "Naive Bayes - Test Data Accuracy: 0.8511627906976744\n",
      "SVM - Test Data Accuracy: 0.9906976744186047\n",
      "Random Forest - Test Data Accuracy: 0.9476744186046512\n",
      "\n",
      "Best Model: SVM with accuracy 0.9906976744186047\n"
     ]
    }
   ],
   "source": [
    "import pandas as pd\n",
    "from sklearn.model_selection import train_test_split\n",
    "from sklearn.feature_extraction.text import TfidfVectorizer\n",
    "from sklearn.linear_model import LogisticRegression\n",
    "from sklearn.naive_bayes import MultinomialNB\n",
    "from sklearn.svm import LinearSVC\n",
    "from sklearn.ensemble import RandomForestClassifier\n",
    "from sklearn.metrics import accuracy_score, classification_report\n",
    "\n",
    "# Load the data\n",
    "train_df = pd.read_csv('train.csv')\n",
    "validation_df = pd.read_csv('validation.csv')\n",
    "test_df = pd.read_csv('test.csv')\n",
    "\n",
    "# Vectorize the text data\n",
    "tfidf_vectorizer = TfidfVectorizer()\n",
    "X_train = tfidf_vectorizer.fit_transform(train_df['cleaned_text'])\n",
    "y_train = train_df['spam']\n",
    "X_validation = tfidf_vectorizer.transform(validation_df['cleaned_text'])\n",
    "y_validation = validation_df['spam']\n",
    "X_test = tfidf_vectorizer.transform(test_df['cleaned_text'])\n",
    "y_test = test_df['spam']\n",
    "\n",
    "# Fit the initial model (Logistic Regression) on the training data\n",
    "model = LogisticRegression()\n",
    "model.fit(X_train, y_train)\n",
    "\n",
    "# Score and evaluate the model on training and validation data\n",
    "for dataset_name, X, y in [(\"Training\", X_train, y_train), (\"Validation\", X_validation, y_validation)]:\n",
    "    predictions = model.predict(X)\n",
    "    accuracy = accuracy_score(y, predictions)\n",
    "    report = classification_report(y, predictions)\n",
    "    print(f\"{dataset_name} Data - Accuracy: {accuracy}\\n{report}\\n\")\n",
    "\n",
    "# Fine-tuning could be done here based on validation performance\n",
    "\n",
    "# Benchmark models\n",
    "models = {\n",
    "    \"Naive Bayes\": MultinomialNB(),\n",
    "    \"SVM\": LinearSVC(),\n",
    "    \"Random Forest\": RandomForestClassifier()\n",
    "}\n",
    "\n",
    "# Score benchmark models on test data\n",
    "best_model_name = None\n",
    "best_accuracy = 0\n",
    "\n",
    "for model_name, model in models.items():\n",
    "    model.fit(X_train, y_train)\n",
    "    predictions = model.predict(X_test)\n",
    "    accuracy = accuracy_score(y_test, predictions)\n",
    "    print(f\"{model_name} - Test Data Accuracy: {accuracy}\")\n",
    "    \n",
    "    if accuracy > best_accuracy:\n",
    "        best_accuracy = accuracy\n",
    "        best_model_name = model_name\n",
    "\n",
    "print(f\"\\nBest Model: {best_model_name} with accuracy {best_accuracy}\")\n"
   ]
  },
  {
   "cell_type": "code",
   "execution_count": 5,
   "metadata": {},
   "outputs": [
    {
     "data": {
      "text/plain": [
       "['best_model.pkl']"
      ]
     },
     "execution_count": 5,
     "metadata": {},
     "output_type": "execute_result"
    }
   ],
   "source": [
    "import joblib\n",
    "joblib.dump(models, 'best_model.pkl')"
   ]
  }
 ],
 "metadata": {
  "kernelspec": {
   "display_name": "Python 3",
   "language": "python",
   "name": "python3"
  },
  "language_info": {
   "codemirror_mode": {
    "name": "ipython",
    "version": 3
   },
   "file_extension": ".py",
   "mimetype": "text/x-python",
   "name": "python",
   "nbconvert_exporter": "python",
   "pygments_lexer": "ipython3",
   "version": "3.10.12"
  }
 },
 "nbformat": 4,
 "nbformat_minor": 2
}
