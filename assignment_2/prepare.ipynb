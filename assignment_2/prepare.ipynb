{
 "cells": [
  {
   "cell_type": "code",
   "execution_count": 2,
   "metadata": {},
   "outputs": [],
   "source": [
    "import pandas as pd\n",
    "from sklearn.model_selection import train_test_split\n",
    "\n",
    "# Load the data\n",
    "data = pd.read_csv('/home/sayantika/Desktop/DS2sem4/Applied Machine Leaning/Applied-ML-1/emails.csv')\n",
    "\n",
    "# Split the data\n",
    "train, test = train_test_split(data, test_size=0.2, random_state=42)\n",
    "train, validation = train_test_split(train, test_size=0.25, random_state=42)  # 0.25 * 0.8 = 0.2\n",
    "\n",
    "# Save the splits\n",
    "train.to_csv('train.csv', index=False)\n",
    "validation.to_csv('validation.csv', index=False)\n",
    "test.to_csv('test.csv', index=False)\n"
   ]
  },
  {
   "cell_type": "code",
   "execution_count": 3,
   "metadata": {},
   "outputs": [],
   "source": [
    "# Split the data\n",
    "train, test = train_test_split(data, test_size=0.2, random_state=4)\n",
    "train, validation = train_test_split(train, test_size=0.25, random_state=4)  # 0.25 * 0.8 = 0.2\n",
    "\n",
    "# Save the splits\n",
    "train.to_csv('train1.csv', index=False)\n",
    "validation.to_csv('validation1.csv', index=False)\n",
    "test.to_csv('test1.csv', index=False)"
   ]
  },
  {
   "cell_type": "code",
   "execution_count": 4,
   "metadata": {},
   "outputs": [],
   "source": [
    "# Split the data\n",
    "train, test = train_test_split(data, test_size=0.2, random_state=2)\n",
    "train, validation = train_test_split(train, test_size=0.25, random_state=2)  \n",
    "\n",
    "# Save the splits\n",
    "train.to_csv('train2.csv', index=False)\n",
    "validation.to_csv('validation2.csv', index=False)\n",
    "test.to_csv('test2.csv', index=False)"
   ]
  },
  {
   "cell_type": "code",
   "execution_count": 6,
   "metadata": {},
   "outputs": [
    {
     "name": "stdout",
     "output_type": "stream",
     "text": [
      "train.csv - Distribution of target variable:\n",
      "0    2619\n",
      "1     817\n",
      "Name: spam, dtype: int64\n",
      "validation.csv - Distribution of target variable:\n",
      "0    885\n",
      "1    261\n",
      "Name: spam, dtype: int64\n",
      "test.csv - Distribution of target variable:\n",
      "0    856\n",
      "1    290\n",
      "Name: spam, dtype: int64\n"
     ]
    }
   ],
   "source": [
    "for split in ['train.csv', 'validation.csv', 'test.csv']:\n",
    "    df = pd.read_csv(split)\n",
    "    print(f\"{split} - Distribution of target variable:\")\n",
    "    print(df['spam'].value_counts())\n"
   ]
  },
  {
   "cell_type": "code",
   "execution_count": 7,
   "metadata": {},
   "outputs": [
    {
     "name": "stdout",
     "output_type": "stream",
     "text": [
      "train1.csv - Distribution of target variable:\n",
      "0    2597\n",
      "1     839\n",
      "Name: spam, dtype: int64\n",
      "validation1.csv - Distribution of target variable:\n",
      "0    890\n",
      "1    256\n",
      "Name: spam, dtype: int64\n",
      "test1.csv - Distribution of target variable:\n",
      "0    873\n",
      "1    273\n",
      "Name: spam, dtype: int64\n"
     ]
    }
   ],
   "source": [
    "for split in ['train1.csv', 'validation1.csv', 'test1.csv']:\n",
    "    df = pd.read_csv(split)\n",
    "    print(f\"{split} - Distribution of target variable:\")\n",
    "    print(df['spam'].value_counts())\n"
   ]
  },
  {
   "cell_type": "code",
   "execution_count": 8,
   "metadata": {},
   "outputs": [
    {
     "name": "stdout",
     "output_type": "stream",
     "text": [
      "train2.csv - Distribution of target variable:\n",
      "0    2628\n",
      "1     808\n",
      "Name: spam, dtype: int64\n",
      "validation2.csv - Distribution of target variable:\n",
      "0    870\n",
      "1    276\n",
      "Name: spam, dtype: int64\n",
      "test2.csv - Distribution of target variable:\n",
      "0    862\n",
      "1    284\n",
      "Name: spam, dtype: int64\n"
     ]
    }
   ],
   "source": [
    "for split in ['train2.csv', 'validation2.csv', 'test2.csv']:\n",
    "    df = pd.read_csv(split)\n",
    "    print(f\"{split} - Distribution of target variable:\")\n",
    "    print(df['spam'].value_counts())\n"
   ]
  },
  {
   "cell_type": "code",
   "execution_count": null,
   "metadata": {},
   "outputs": [],
   "source": []
  }
 ],
 "metadata": {
  "kernelspec": {
   "display_name": "Python 3",
   "language": "python",
   "name": "python3"
  },
  "language_info": {
   "codemirror_mode": {
    "name": "ipython",
    "version": 3
   },
   "file_extension": ".py",
   "mimetype": "text/x-python",
   "name": "python",
   "nbconvert_exporter": "python",
   "pygments_lexer": "ipython3",
   "version": "3.10.12"
  }
 },
 "nbformat": 4,
 "nbformat_minor": 2
}
